{
 "cells": [
  {
   "cell_type": "markdown",
   "metadata": {},
   "source": [
    "# Algorithme génétique\n",
    "\n",
    "## Les algorithmes évolutifs\n",
    "\n",
    "### Algorithmes génétiques\n",
    "\n",
    "Le Machine Learning peut apparaître complexe de prime abord, et pour cause certains des algorithmes qui constituent cet ensemble sont très loin d’être accessibles.\n",
    "\n",
    "Ceci étant, il existe un type d’algorithme évolutif plus simple à saisir parmi ceux-ci: les algorithmes génétiques (ou AG).\n",
    "\n",
    "### Principes\n",
    "\n",
    "Comme leur nom l'indique, les AGs ont certains points communs avec la génétique en biologie.\n",
    "\n",
    "Un individu est un ensemble de données concaténées, chacune de ses données représente un gène.\n",
    "\n",
    "L'ensemble des individus représente la population, tandis que chacune des populations (une par étape de l'algorithme est une génération.\n",
    "\n",
    "D'une génération à l'autre, l'individu le plus apte à répondre à la problématique est conservé tandis que les autres sont obtenus via le croisement des individus de la génération précédente. Au terme de ces croisements, des modifications peuvent avoir lieu: les mutations.\n",
    "\n",
    "### Une particularité\n",
    "\n",
    "L'utilisation d'un AG n'est pas, en soi, très compliqué. Ainsi, nous allons ajouter un peu d'éléments relatifs au Big Data et à ses principes dans ces travaux.\n",
    "\n",
    "Le principe est finalement simple. Le Big Data, et le traitement de données qui l'accompagne sont définis autour de trois grandes étapes qui sont, pour rappel, le Data Cleaning, le Data Mining et enfin le Data Analysis. A chaque nouvelle étape, un nouveau niveau de détail, plus précis, doit être étudié.\n",
    "\n",
    "Nous verrons dans le déroulé de ce TD les points importants analogues à ces trois grandes étapes de traitement des données.\n",
    "\n",
    "## Comment faire?\n",
    "\n",
    "Au final, les AGs ne sont pas particulièrement compliqués à implémenter, et ce TD vous permettra de créer un exemple simple.\n",
    "\n",
    "**Attention: Le contenu que vous produirez ici sera réutilisé lors du TD Examen AG, qui sera noté. Veillez à la modularité de votre code.**\n",
    "\n",
    "**Egalement, pensez à commenter votre code et à le rendre lisible (voir la norme PEP8)**\n",
    "\n",
    "### Objectif\n",
    "\n",
    "A la fin de ce TD, votre code sera capable de trouver, de lui-même, une chaîne de caractères définie. Bien sûr, l'utilité est faible, mais il s'agit de pouvoir traiter ensuite toute sorte de données, comme par exemple, utiliser l'AG pour estimer une courbe à partir d'un ensemble de points fournis.\n",
    "\n",
    "Pour ce TD, le code devra retrouver la chaîne de caractères \"Hello World\".\n",
    "\n",
    "### Description\n",
    "\n",
    "Pour fonctionner, l'AG a besoin:\n",
    "- d'une fonction d'évaluation permettant d'indiquer la proximité ou l'erreur entre l'individu et la solution optimale. Dans notre cas, la distance entre chaque caractère sera utilisée, la fonction d'évaluation pour une distance optimale vaudra donc 0.\n",
    "- d'une fonction de croisement qui permet d'obtenir une nouvelle génération à partir d'une génération pré-existante, prenant une partie de deux individus pour en former un nouveau, et ce pour l'ensemble de la population.\n",
    "- de paramètres de mutation, indiquant les chances pour un nouvel individu d'être altéré, et la force de cette altération.\n",
    "\n",
    "### Avant le code"
   ]
  },
  {
   "cell_type": "code",
   "execution_count": 5,
   "metadata": {},
   "outputs": [
    {
     "name": "stdout",
     "output_type": "stream",
     "text": [
      "Hello World\n"
     ]
    }
   ],
   "source": [
    "# tous les imports de ce TD devront être placés ici\n",
    "import random\n",
    "import string\n",
    "\n",
    "import time\n",
    "\n",
    "# le mot à trouver\n",
    "target = \"Hello World\""
   ]
  },
  {
   "cell_type": "markdown",
   "metadata": {},
   "source": [
    "### Création des méthodes\n",
    "\n",
    "#### Calcul de distance et localisation du meilleur individu\n",
    "\n",
    "Avant toute chose, il faut réfléchir à la manière de représenter nos données.\n",
    "\n",
    "Nous traiterons des chaînes de caractères. En Python, une chaîne de caractères fonctionne (presque) exactement comme une liste de caractères, et ces caractères peuvent être remplacés par leur code ASCII, qui est numérique.\n",
    "\n",
    "Comme dit précédemment, nous allons définir notre individu cible comme la liste des codes ASCII de \"H\", \"e\", \"l\", \"l\", ... \"d\", qui aura comme distance 0.\n",
    "\n",
    "Puisque nous avons les codes ASCII des caractères à disposition, il est simple de trouver, pour chaque indice de la liste, la distance entre le caractère cible et le caractère courant, qui n'est rien de plus qu'une simple différence. De même, la distance globale de la chaîne est une somme des distances.\n",
    "\n",
    "Une fois les distances d'un ensemble de chaînes obtenues, celles-ci peuvent être ordonnées."
   ]
  },
  {
   "cell_type": "code",
   "execution_count": null,
   "metadata": {},
   "outputs": [],
   "source": [
    "# la fonction de conversion d'une chaîne de caractères en liste de valeurs ASCII vous est founie\n",
    "def string_to_int_list(string):\n",
    "    return [ord(character) for character in list(string)]"
   ]
  },
  {
   "cell_type": "markdown",
   "metadata": {},
   "source": [
    "##### Exo 1:\n",
    "- **Créez la méthode permettant de calculer la distance entre un mot et un autre**\n",
    "- **Vérifiez que la distance avec \"Hello World\" est correcte pour les mots suivants: \"COjsy OfUkp\" (105) et \"Hemlo Wohld\" (11)**"
   ]
  },
  {
   "cell_type": "code",
   "execution_count": null,
   "metadata": {},
   "outputs": [],
   "source": [
    "def get_distance(string1, string2):\n",
    "    distance =0 \n",
    "    index = 0\n",
    "    distanceB = 0\n",
    "    int1 = string_to_int_list(string1)\n",
    "    int2 = string_to_int_list(string2)\n",
    "    \n",
    "    for number in int1:\n",
    "        distanceB = abs(int1[index] - int2[index])\n",
    "        distance += distanceB\n",
    "        index += 1\n",
    "    \n",
    "    return distance"
   ]
  },
  {
   "cell_type": "markdown",
   "metadata": {},
   "source": [
    "Maintenant qu'il est possible d'attribuer une valeur de distance entre deux mots, nous pouvons ordonner des mots grâce à cette valeur.\n",
    "\n",
    "##### Exo 2:\n",
    "- **Créez la méthode permettant de retrouver le mot le plus proche d'une cible et la valeur de cette distance**\n",
    "- **Testez avec une liste de mots définie par vos soins, et la cible \"Hello World\"**"
   ]
  },
  {
   "cell_type": "code",
   "execution_count": null,
   "metadata": {},
   "outputs": [],
   "source": [
    "def get_best(string, listeCompare):\n",
    "    \n",
    "    listeDistance = []\n",
    "    \n",
    "    for listeNombre in listeCompare:\n",
    "        listeDistance.append(get_distance(string,listeNombre))\n",
    "        \n",
    "    minDistance = min(listeDistance)\n",
    "    mot = listeCompare[listeDistance.index(minDistance)]\n",
    "            \n",
    "    return mot, minDistance"
   ]
  },
  {
   "cell_type": "markdown",
   "metadata": {},
   "source": [
    "#### Création d'une première génération\n",
    "\n",
    "Bien que nous connaissions le mot cible, nous partirons d'une population constituée d'un ensemble de mots générés aléatoirement.\n",
    "\n",
    "Gardez à l'esprit que la taille de votre population définira la vitesse d'exécution de votre code. Ainsi, bien qu'un ensemble d'individus important  aura la diversité pour atteindre rapidement (en termes d'itérations) la solution, un ensemble plus restreint passera chacune des itérations rapidement.\n",
    "\n",
    "##### Exo 3:\n",
    "- **Créez la méthode d'initialisation d'une liste de mots aléatoires**\n",
    "- **Utilisez cette méthode pour générer aléatoirement un ensemble de mots, et comparez-les à la cible.**"
   ]
  },
  {
   "cell_type": "code",
   "execution_count": null,
   "metadata": {},
   "outputs": [],
   "source": [
    "def word_list_init(nombreDeMot):       \n",
    "    listeMot = []\n",
    "    \n",
    "    # genere 5 lettres aléatoire, fait un espace et regènère 5 lettres aléatoire\n",
    "    # le nombre de fois qui est demandé par la fonction passé en paramètre\n",
    "    for iteration in range(nombreDeMot):\n",
    "        listeMot.append(''.join(\n",
    "                                random.choice(string.ascii_letters) \n",
    "                                for index in range(5)) + ' ' + ''.join(random.choice(string.ascii_letters) for index in range(5))) \n",
    "    \n",
    "    return listeMot\n"
   ]
  },
  {
   "cell_type": "markdown",
   "metadata": {},
   "source": [
    "#### Passage d'une génération à une autre\n",
    "\n",
    "Les opérations de base sont maintenant établies, il est temps de rendre notre système évolutif.\n",
    "\n",
    "D'une génération à l'autre, les individus doivent évoluer. Mais, il n'est pas certain que cette évolution se fasse dans la direction espérée.\n",
    "\n",
    "La théorie de l'évolution dans le domaine biologique indique que l'espèce la plus adaptée à son environnement survivra plus probablement que d'autres. Dans notre cas, nous pouvons discerner l'individu le plus proche de la solution et le conserver (il \"survit\"). Ainsi, le meilleur individu d'une génération ne peut pas être moins adapté que celui d'une génération passée (principe de non-régression).\n",
    "\n",
    "Le reste de la population de la nouvelle génération est produite comme dans le cas de la biologie. Deux parties complémentaires (chromosomes) de deux individus (parents) seront combinées pour obtenir un nouvel individu (enfant).\n",
    "\n",
    "##### Exo 4:\n",
    "- **Créez la méthode de transition entre deux générations. Notez que:**\n",
    " - **Le meilleur individu (ou les x meilleurs individus) devrait être conservé.**\n",
    " - **Les individus restants devraient être un croisement d'individus de la liste des mots précédente (meilleur mot précédent compris).**\n",
    " - **La liste de mots résultante devrait être de même longueur que la précédente.**\n",
    "- **Appliquez la méthode de manière itérative, en indiquant à chaque fois le meilleur élément de la génération et la distance avec la cible.**\n",
    "- **Au bout d'un certain nombre d'itérations, que se passe-t-il?**"
   ]
  },
  {
   "cell_type": "code",
   "execution_count": null,
   "metadata": {},
   "outputs": [],
   "source": [
    "def crossover(string1, string2):\n",
    "        \n",
    "    string1Int = string_to_int_list(string1)\n",
    "    string2Int = string_to_int_list(string2)\n",
    "    enfant = []\n",
    "    string1Length = len(string1Int)\n",
    "    \n",
    "    for i in range(string1Length):\n",
    "        choice = random.randint(0,1)\n",
    "        if choice == 1: \n",
    "            enfant.append(string1Int[i])\n",
    "        else: \n",
    "            enfant.append(string2Int[i])\n",
    "    \n",
    "    return enfant\n",
    "\n",
    "def new_generation():\n",
    "        \n",
    "    newGeneration = []\n",
    "    bestDistance = get_best(target, maListe)\n",
    "    \n",
    "    #indique le meilleur mot avec sa distance\n",
    "    print(bestDistance)\n",
    "    \n",
    "    lenMaListe = len(maListe)\n",
    "    \n",
    "    #Ajoute le mot qui a la meilleur distance au tableau newGeneration\n",
    "    newGeneration.append(bestDistance[0])\n",
    "    bestWord = bestDistance[0]\n",
    "    if bestWord == target:\n",
    "        return \"solution trouvé\"\n",
    "    else:  \n",
    "        maListe.pop(maListe.index(bestWord))\n",
    "\n",
    "        while len(newGeneration) != lenMaListe:\n",
    "            randomWord = random.choice(maListe)\n",
    "            newEnfant = crossover(bestWord, randomWord)\n",
    "            newGeneration.append(ascii_to_lettre(newEnfant))\n",
    "\n",
    "        maListe = newGeneration\n",
    "        \n",
    "        return new_generation(target, maListe)"
   ]
  },
  {
   "cell_type": "markdown",
   "metadata": {},
   "source": [
    "Nous retrouvons, en fin de compte, un ensemble d'individus très similaires. A la différence de l'ensemble initial, où tous les éléments sont générés aléatoirement, ce point des travaux montre une grande défaillance en termes de diversité.\n",
    "\n",
    "S'il fallait considérer le lien avec les grandes phases du Big Data, nous pourrions imaginer un travail de Data Cleaning trop poussé, retirant tous les éléments aberrants mais aussi malheureusement certains éléments essentiels à la complétude espérée de la donnée (dans notre cas, l'accès à un nombre suffisant de lettres par emplacement)."
   ]
  },
  {
   "cell_type": "markdown",
   "metadata": {},
   "source": [
    "#### Créer la diversité génétique\n",
    "\n",
    "Le principe de mutation permet d'ajouter de la diversité lors de l'évolution de l'AG. En effet, avec une faible population, il est presque certain que le croisement normal d'éléments finisse dans une impasse, on parle de minimum local.\n",
    "\n",
    "Dans notre cas, la notion de minimum local n'a pas véritable lieu d'être. Il nous suffit d'ajouter de nouveaux éléments innovants pour permettre à l'AG de reprendre son évolution.\n",
    "\n",
    "Cette innovation prend la forme d'une altération d'un (ou plusieurs) caractère(s) d'un individu lors de sa création pour une nouvelle génération. Pour s'assurer que l'on ne dégrade pas le meilleur individu, il est conseillé de lui éviter cette étape.\n",
    "\n",
    "La mutation est définie suivant deux paramètres principaux. Tout d'abord, sa probabilité, entre 0 et 1, définit sa fréquence. Aussi, sa force définit l'effet de la mutation, et peut prendre n'importe quelle forme, de +1/-1 à une réaffectation aléatoire. Cette mutation peut s'appliquer lettre par lettre, sur le mot entier, ou sur un ensemble de lettres aléatoires.\n",
    "\n",
    "### Parallèle avec le Big Data\n",
    "\n",
    "Ici, vous chercherez à optimiser votre algorithme, de sorte qu'il puisse vous fournir une réponse rapidement. Un manque de diversité, ou sa perte trop rapide, pose problème. De même, une avancée trop précise sans \"risque\" entraîne des longueurs nuisibles à l'efficacité du travail.\n",
    "\n",
    "Il peut donc être très intéressant de transposer par analogie les thématique du Big Data ici.\n",
    "\n",
    "#### Data Cleaning\n",
    "\n",
    "L'ensemble de mots initial est aléatoire, et la probabilité de trouver un mot intéressant est assez faible. De même, le croisement entre ces mots prend plus d'importance, en termes de progression, que la mutation, qui apport un précision ponctuelle.\n",
    "\n",
    "#### Data Mining\n",
    "\n",
    "A supposer que l'ensemble des individus est maintenant à la fois restreinte à des mots moins aléatoires tout en conservant une diversité importante, il est maintenant possible de se concentrer sur une base plus limitée de mots et tenter de les croiser en appliquant des mutations de puissance moyenne.\n",
    "\n",
    "#### Data Analysis\n",
    "\n",
    "Maintenant que l'ensemble d'individus est dans un espace de recherche très petit, le croisement va commencer à perdre en efficacité (les mots sont presque tous identiques). Il est temps d'éliminer les doublons et de concentrer le travail de précision en ne conservant que la mutation, avec les paramètres les plus faibles possibles.\n",
    "\n",
    "##### Exo 5:\n",
    "- **Créez une méthode permettant de définir le procédé de mutation**\n",
    "- **Utilisez cette méthode pour obtenir la terminaison de votre AG (réduire la distance du meilleur mot à 0)**\n",
    "- **Votre code est complet, faites varier certains de vos paramètres afin de le rendre plus efficace, si vous le souhaitez**\n",
    "- **Rendez votre code adaptatif, capable d'acception diverses longueurs de chaînes de caractères.**"
   ]
  },
  {
   "cell_type": "code",
   "execution_count": null,
   "metadata": {},
   "outputs": [],
   "source": [
    "def mutation():\n",
    "    pass"
   ]
  },
  {
   "cell_type": "markdown",
   "metadata": {},
   "source": [
    "Le bloc suivant vous permet de tester l'exécution de votre code dans les conditions de test finales. Les paramètres des méthodes \"word_list_init\", \"get_distance\" et \"new_generation\" sont à compléter.\n",
    "\n",
    "La valeur de la variable \"test_length\" sera modifiée lors de l'évaluation du code."
   ]
  },
  {
   "cell_type": "code",
   "execution_count": null,
   "metadata": {},
   "outputs": [],
   "source": [
    "# espace de test et d'exécution final\n",
    "test_length = 20\n",
    "target = \"\".join([chr(random.randint(0, 255)) for _ in range(test_length)])\n",
    "\n",
    "population = word_list_init()\n",
    "distance = get_distance()\n",
    "\n",
    "while distance > 0:\n",
    "    population = new_generation()\n",
    "    distance = get_distance()\n",
    "\n",
    "    clear_output(wait=True)\n",
    "    print(best)\n"
   ]
  },
  {
   "cell_type": "markdown",
   "metadata": {},
   "source": [
    "### Adaptation finale\n",
    "\n",
    "Maintenant que vous avez un code qui termine, assez efficacement, il est temps de trouver une application plus ludique, mais non moins sérieuse, puisqu'elle sera notée.\n",
    "\n",
    "Ici, l'objectif sera de retrouver non plus une phrase, mais plutôt une \"image\". Vous trouverez dans le bloc suivant, la nouvelle cible de recherche, qui est un ascii art. Un exemple ests fourni, vous pouvez parfaitement changer cet ascii art selon vos goûts.\n",
    "\n",
    "Deux nouvelles contraintes s'ajoutent.\n",
    "\n",
    "La première, il est nécessaire de reconnaître les caractères problématiques (par exemple, les guillemets ou le caractère d'échappement \"\\\") pour assurer leur lecture.\n",
    "\n",
    "La seconde, il ne faut pas oublier que l'ascii est définie sur deux dimensions. Une méthode d'affichage, qui demande la chaîne à afficher et la longueur d'une ligne de dessin est fournée.\n",
    "\n",
    "### Travail demandé\n",
    "\n",
    "Vous pouvez choisir de réutiliser les méthodes existantes pour retrouver l'ascii art que vous aurez choisi (taille minimale acceptée : 3x3)."
   ]
  },
  {
   "cell_type": "code",
   "execution_count": null,
   "metadata": {},
   "outputs": [],
   "source": [
    "# La cible est :\n",
    "#/\\     /\\\n",
    "#  \\ _____\\\n",
    "#   (_)-(_)\n",
    "ascii_target=\"/\\     /\\   \\ _____\\   (_)-(_)\"\n",
    "\n",
    "def printer_ascii(indiv, length):\n",
    "    tab_print = [indiv[i:i+length] for i in range(int(len(indiv)/length))]\n",
    "    for line in tab_print:\n",
    "        print(line)"
   ]
  },
  {
   "cell_type": "code",
   "execution_count": null,
   "metadata": {},
   "outputs": [],
   "source": [
    "# insérez ici votre rendu final"
   ]
  },
  {
   "cell_type": "markdown",
   "metadata": {},
   "source": [
    "IMPORTANT:\n",
    "\n",
    "Ce TD est noté et compte pour un quart de la note TD finale.\n",
    "L'évaluation sera effectuée par le redémarrage du noyau et l'exécution complète du code. Vérifiez la validité de votre travail avec \"Noyau\" -> \"Redémarrer & tout exécuter\". Tout code ne fonctionnant pas en suivant cette procédure vaudra 0.\n",
    "\n",
    "Le barème est le suivant:\n",
    "- **L'exécution complète attribuera au plus 12 points.** 2 points sont attribués pour chaque méthode correctement implémentée.\n",
    "- **Les codes terminant seront mis en compétition** 0 à 6 points seront attribués en fonction du classement.\n",
    "- **La propreté** (respect du PEP8) **vaudra 2 points.** Un code non propre peut faire perdre jusqu'à 3 points.\n",
    "- Le code doit respecter le côté aléatoire du sujet. Cela inclut la génération initiale, le croisement et la mutation. Toute méthode parmi les trois indiquées ne respectant pas ce point vaudra 0.\n",
    "\n",
    "Attention, tout jour de retard pour le rendu de ce travail entraînera une pénalité de 5 points.\n",
    "\n",
    "Aussi ce code devant être utilisé pour le TD Examen AG, il est conseillé d'y mettre du soin.\n",
    "\n",
    "Le rendu prend la forme de ce notebook, à envoyer par mail."
   ]
  },
  {
   "cell_type": "code",
   "execution_count": null,
   "metadata": {},
   "outputs": [],
   "source": []
  }
 ],
 "metadata": {
  "interpreter": {
   "hash": "696f1b3f4ec608302c0ac7d485b61cbe5cb6c2ed50640f9120220e665ff62020"
  },
  "kernelspec": {
   "display_name": "Python 3.9.4 64-bit",
   "name": "python3"
  },
  "language_info": {
   "codemirror_mode": {
    "name": "ipython",
    "version": 3
   },
   "file_extension": ".py",
   "mimetype": "text/x-python",
   "name": "python",
   "nbconvert_exporter": "python",
   "pygments_lexer": "ipython3",
   "version": "3.9.4"
  }
 },
 "nbformat": 4,
 "nbformat_minor": 2
}
